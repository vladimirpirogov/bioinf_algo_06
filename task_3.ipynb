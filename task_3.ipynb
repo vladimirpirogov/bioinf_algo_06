{
 "cells": [
  {
   "cell_type": "markdown",
   "metadata": {},
   "source": [
    "# Домашнее задание 6\n",
    "\n",
    "Упражнение 3\n",
    "\n",
    "# Витерби"
   ]
  },
  {
   "cell_type": "code",
   "execution_count": 2,
   "metadata": {},
   "outputs": [],
   "source": [
    "def delta_0():\n",
    "    print(seq[0])\n",
    "    if seq[0] == 'O':\n",
    "        g = 0\n",
    "    else:\n",
    "        g = 1\n",
    "    delta[0][0] = pi[0]*b[0][g] \n",
    "    delta[0][1] = pi[1]*b[1][g]\n",
    "    if delta[0][0] > delta[0][1]:\n",
    "        psi[0][0] = 0\n",
    "        psi[0][1] = 0\n",
    "    else:\n",
    "        psi[0][1] = 1\n",
    "        psi[0][0] = 1"
   ]
  },
  {
   "cell_type": "code",
   "execution_count": 3,
   "metadata": {},
   "outputs": [],
   "source": [
    "def viterby():\n",
    "    delta_0()\n",
    "\n",
    "    for t in range(1,T):\n",
    "        for j in range(2):\n",
    "            if seq[t] == 'O':\n",
    "                g = 0\n",
    "            else:\n",
    "                g = 1\n",
    "            # print(delta[t-1][0] , a[0][j] , b[j][g], ';',delta[t-1][1] , a[1][j] , b[j][g])\n",
    "            delta[t][j] = max(delta[t-1][0] * a[0][j] * b[j][g], delta[t-1][1] * a[1][j] * b[j][g])\n",
    "            if delta[t-1][0] * a[0][j] * b[0][g] > delta[t-1][1] * a[1][j] * b[1][g]:\n",
    "                psi[t][j] = 0\n",
    "            else:\n",
    "                psi[t][j] = 1\n",
    "\n",
    "    if delta[T-1][0] > delta[T-1][1]:\n",
    "        last_max = 0\n",
    "    else:\n",
    "        last_max = 1\n",
    "\n",
    "    answer = []            \n",
    "    for t in range(T-1,-1,-1):\n",
    "        answer.append(psi[t][last_max])\n",
    "        last_max = psi[t][last_max]\n",
    "\n",
    "    answer.reverse()\n",
    "    return answer"
   ]
  },
  {
   "cell_type": "code",
   "execution_count": 4,
   "metadata": {},
   "outputs": [],
   "source": [
    "# seq = 'OOOРОРООРРРРРРРРРРООООООООOOOOOOOOOOO'\n",
    "# seq = 'PPPPPPPPPPPPPPPPP'\n",
    "# seq = 'OOOOOOOOOOOOOOOOO'\n",
    "# seq = 'POPPPOPOPOPPPOPOPOPOPPPOPO'\n",
    "# seq = 'OPOPPPPPPPPPPPPPOPOOOOO'\n",
    "# seq = 'OPOPOPOOOOO'\n",
    "# seq = 'POPOPOPPPPP'\n",
    "# T = len(seq)\n",
    "# delta = [[0,0] for i in range(T)]\n",
    "# psi = [[0,0] for i in range(T)]\n",
    "# pi = [0.5, 0.5]\n",
    "# a = [[0.8, 0.2], [0.2, 0.8]]\n",
    "# b = [[0.5, 0.5], [0.1, 0.9]]"
   ]
  },
  {
   "cell_type": "code",
   "execution_count": 5,
   "metadata": {},
   "outputs": [],
   "source": [
    "# print(viterby())"
   ]
  },
  {
   "cell_type": "markdown",
   "metadata": {},
   "source": [
    "# Forward-Backward"
   ]
  },
  {
   "cell_type": "code",
   "execution_count": 6,
   "metadata": {},
   "outputs": [],
   "source": [
    "def alpha(j, t):\n",
    "    if t == 1:\n",
    "        if seq[1] == 'O':\n",
    "            g = 0\n",
    "        else:\n",
    "            g = 1\n",
    "            \n",
    "        return pi[j]*b[j][g]\n",
    "    else:\n",
    "        # print(seq[t-1])\n",
    "        if seq[t-1] == 'O':\n",
    "            g = 0\n",
    "        else:\n",
    "            g = 1\n",
    "        \n",
    "        return alpha(0, t-1)*a[0][j]*b[j][g] + alpha(1, t-1)*a[1][j]*b[j][g]"
   ]
  },
  {
   "cell_type": "code",
   "execution_count": 7,
   "metadata": {},
   "outputs": [],
   "source": [
    "def beta(i, t):\n",
    "    if t == T:\n",
    "        return 1\n",
    "    else:\n",
    "        if seq[t+1] == 'O':\n",
    "            g = 0\n",
    "        else:\n",
    "            g = 1\n",
    "        return beta(0, t+1) * a[i][0] * b[0][g] + beta(1, t+1) * a[i][1] * b[1][g]"
   ]
  },
  {
   "cell_type": "code",
   "execution_count": 8,
   "metadata": {},
   "outputs": [],
   "source": [
    "def fb():\n",
    "    answer = [[0, 0] for i in range(T+1)]\n",
    "    # d = alpha(0, T) + alpha(1, T)\n",
    "    for t in range(1, T+1):   \n",
    "        for k in range(2):\n",
    "            answer[t][k] = (alpha(k, t) * beta(k, t))/(alpha(0, t) * beta(0, t)+ alpha(1, t) * beta(1, t))\n",
    "    return answer"
   ]
  },
  {
   "cell_type": "code",
   "execution_count": 9,
   "metadata": {},
   "outputs": [],
   "source": [
    "def full_alpha():\n",
    "    al = [[0, 0] for i in range(T+1)]\n",
    "    for t in range(1,T+1):\n",
    "        if seq[t] == 'O':\n",
    "            g = 0\n",
    "        else:\n",
    "            g = 1\n",
    "        \n",
    "        if t == 1:\n",
    "            al[t][0] = pi[0]*b[0][g]/(pi[0]*b[0][g] + pi[1]*b[1][g])\n",
    "            al[t][1] = pi[1]*b[1][g]/(pi[0]*b[0][g] + pi[1]*b[1][g])\n",
    "        else:\n",
    "            d = (al[t-1][0]*a[0][0]*b[0][g]+ al[t-1][1]*a[1][0]*b[0][g])  + (al[t-1][0]*a[0][1]*b[1][g]+ al[t-1][1]*a[1][1]*b[1][g])\n",
    "            al[t][0] = (al[t-1][0]*a[0][0]*b[0][g]+ al[t-1][1]*a[1][0]*b[0][g]) /(d)\n",
    "            al[t][1] = (al[t-1][0]*a[0][1]*b[1][g]+ al[t-1][1]*a[1][1]*b[1][g]) /(d)\n",
    "            # print(answer[t-1][0]*b[0][g],  answer[t-1][1]*b[1][g]  )\n",
    "    return al"
   ]
  },
  {
   "cell_type": "code",
   "execution_count": 10,
   "metadata": {},
   "outputs": [],
   "source": [
    "def full_beta():\n",
    "    be  = [[0, 0] for i in range(T+1)]\n",
    "    for t in range(T, -1, -1):\n",
    "        if seq[t] == 'O':\n",
    "            g = 0\n",
    "        else:\n",
    "            g = 1\n",
    "        \n",
    "        if t == T:\n",
    "            be[t][0] = 1 # pi[0]*b[0][g]/(pi[0]*b[0][g] + pi[1]*b[1][g])\n",
    "            be[t][1] = 1 # pi[1]*b[1][g]/(pi[0]*b[0][g] + pi[1]*b[1][g])\n",
    "        else:\n",
    "            # d = (answer[t-1][0]*a[0][0]*b[0][g]+ answer[t-1][1]*a[1][0]*b[0][g])  + (answer[t-1][0]*a[0][1]*b[1][g]+ answer[t-1][1]*a[1][1]*b[1][g])\n",
    "            d = a[0][0] * b[0][g] * be[t+1][0] + a[0][1]*b[1][g] * be[t+1][1] + a[1][0] * b[0][g] * be[t+1][0] + a[1][1]*b[1][g] * be[t+1][1]\n",
    "            # beta(0, t+1) * a[i][0] * b[0][g] + beta(1, t+1) * a[i][1] * b[1][g]\n",
    "            be [t][0] = (a[0][0] * b[0][g] * be[t+1][0] + a[0][1]*b[1][g] * be[t+1][1]) /(d)\n",
    "            be [t][1] = (a[1][0] * b[0][g] * be[t+1][0] + a[1][1]*b[1][g] * be[t+1][1]) /(d)\n",
    "            # answer[t][1] = (answer[t-1][0]*a[0][1]*b[1][g]+ answer[t-1][1]*a[1][1]*b[1][g]) /(d)\n",
    "            # print(a[0][0] , b[0][g] , a[0][1] , b[1][g])\n",
    "            # print(a[0][0] * b[0][g] * be[t+1][0] + a[0][1] * b[1][g] * be[t+1][1],  a[1][0] * b[0][g] * be[t+1][0] + a[1][1]*b[1][g] * be[t+1][1])\n",
    "    return be"
   ]
  },
  {
   "cell_type": "code",
   "execution_count": 11,
   "metadata": {},
   "outputs": [],
   "source": [
    "def full_fb():\n",
    "    fb = full_beta()\n",
    "    fa = full_alpha()\n",
    "    full_answer = []\n",
    "    for i in range(len(fb)):\n",
    "        s0 = fb[len(fb)-i-1][0] * fa[len(fb)-i-1][0]\n",
    "        s1 = fb[len(fb)-i-1][1] * fa[len(fb)-i-1][1]\n",
    "        s = s0+s1\n",
    "        if s!=0:\n",
    "            full_answer.append([s0/s, s1/s])\n",
    "    return full_answer"
   ]
  },
  {
   "cell_type": "markdown",
   "metadata": {},
   "source": [
    "# Тесты\n",
    "\n",
    "1 Витерби"
   ]
  },
  {
   "cell_type": "code",
   "execution_count": 12,
   "metadata": {},
   "outputs": [
    {
     "name": "stdout",
     "output_type": "stream",
     "text": [
      "O\n",
      "[0, 0, 0, 0, 0, 0, 0, 0, 0, 1, 1, 1, 1, 1, 1, 1, 1, 1, 0, 0, 0, 0, 0, 0, 0, 0, 0, 0, 0]\n"
     ]
    }
   ],
   "source": [
    "seq = 'OPOPOPOOPPPPPPPPPPOOOOOOOOOOO'\n",
    "T = len(seq)\n",
    "delta = [[0,0] for i in range(T)]\n",
    "psi = [[0,0] for i in range(T)]\n",
    "pi = [0.5, 0.5]\n",
    "a = [[0.8, 0.2], [0.2, 0.8]]\n",
    "b = [[0.5, 0.5], [0.1, 0.9]]\n",
    "print(viterby())"
   ]
  },
  {
   "cell_type": "markdown",
   "metadata": {},
   "source": [
    "1 Forward-Backward"
   ]
  },
  {
   "cell_type": "code",
   "execution_count": 13,
   "metadata": {},
   "outputs": [
    {
     "name": "stdout",
     "output_type": "stream",
     "text": [
      "[0.9422186441667312, 0.057781355833268794]\n",
      "[0.9743909833001627, 0.025609016699837353]\n",
      "[0.9802424119113607, 0.01975758808863927]\n",
      "[0.9813061872895344, 0.018693812710465565]\n",
      "[0.9814970028263629, 0.01850299717363706]\n",
      "[0.9815170596973752, 0.018482940302624828]\n",
      "[0.9814401671878961, 0.01855983281210386]\n",
      "[0.980983360863043, 0.019016639136957017]\n",
      "[0.9784655934473562, 0.021534406552643878]\n",
      "[0.9646214808511079, 0.0353785191488921]\n",
      "[0.8885046887201048, 0.11149531127989508]\n",
      "[0.27843096487923935, 0.7215690351207606]\n",
      "[0.1913711785765898, 0.8086288214234101]\n",
      "[0.15220713613149103, 0.8477928638685089]\n",
      "[0.13564176716459023, 0.8643582328354097]\n",
      "[0.13097507038763745, 0.8690249296123626]\n",
      "[0.13519270536396402, 0.8648072946360361]\n",
      "[0.15101895187087105, 0.8489810481291289]\n",
      "[0.18867639283726467, 0.8113236071627353]\n",
      "[0.2724889456873634, 0.7275110543126366]\n",
      "[0.4565933112250828, 0.5434066887749173]\n",
      "[0.9545793393161859, 0.04542066068381426]\n",
      "[0.9443725515352351, 0.05562744846476478]\n",
      "[0.6435632969530707, 0.35643670304692926]\n",
      "[0.9395217433948839, 0.06047825660511612]\n",
      "[0.629631997533574, 0.37036800246642604]\n",
      "[0.9365214339809972, 0.0634785660190028]\n",
      "[0.6134239930875536, 0.38657600691244637]\n",
      "[0.9264129484323015, 0.07358705156769846]\n"
     ]
    }
   ],
   "source": [
    "seq = '_OPOPOPOOPPPPPPPPPPOOOOOOOOOOO'\n",
    "T = len(seq) - 1 \n",
    "a = [[0.8, 0.2], [0.2, 0.8]]\n",
    "b = [[0.5, 0.5], [0.1, 0.9]]\n",
    "ans = full_fb()\n",
    "for i in range(len(ans)):\n",
    "    print(ans[i])"
   ]
  },
  {
   "cell_type": "markdown",
   "metadata": {},
   "source": [
    "2 Витерби"
   ]
  },
  {
   "cell_type": "code",
   "execution_count": 14,
   "metadata": {},
   "outputs": [
    {
     "name": "stdout",
     "output_type": "stream",
     "text": [
      "O\n",
      "[1, 0, 0, 0, 0, 0, 0, 1, 0, 0, 0, 0, 0, 0, 0, 0, 0, 0, 0, 1, 1, 1, 1, 1, 1, 1, 1, 1, 1]\n"
     ]
    }
   ],
   "source": [
    "seq = 'OPOPOPOOPPPPPPPPPPOOOOOOOOOOO'\n",
    "T = len(seq)\n",
    "delta = [[0,0] for i in range(T)]\n",
    "psi = [[0,0] for i in range(T)]\n",
    "pi = [0.5, 0.5]\n",
    "a = [[0.5, 0.5], [0.5, 0.5]]\n",
    "b = [[0.5, 0.5], [0.51, 0.49]]\n",
    "print(viterby())"
   ]
  },
  {
   "cell_type": "markdown",
   "metadata": {},
   "source": [
    "2 Forward-Backward"
   ]
  },
  {
   "cell_type": "code",
   "execution_count": 15,
   "metadata": {},
   "outputs": [
    {
     "name": "stdout",
     "output_type": "stream",
     "text": [
      "[0.49504950495049505, 0.504950495049505]\n",
      "[0.49504950495049505, 0.504950495049505]\n",
      "[0.49504950495049505, 0.504950495049505]\n",
      "[0.49504950495049505, 0.504950495049505]\n",
      "[0.49504950495049505, 0.504950495049505]\n",
      "[0.49504950495049505, 0.504950495049505]\n",
      "[0.49504950495049505, 0.504950495049505]\n",
      "[0.49504950495049505, 0.504950495049505]\n",
      "[0.49504950495049505, 0.504950495049505]\n",
      "[0.49504950495049505, 0.504950495049505]\n",
      "[0.49504950495049505, 0.504950495049505]\n",
      "[0.5050505050505051, 0.494949494949495]\n",
      "[0.5050505050505051, 0.494949494949495]\n",
      "[0.5050505050505051, 0.494949494949495]\n",
      "[0.5050505050505051, 0.494949494949495]\n",
      "[0.5050505050505051, 0.494949494949495]\n",
      "[0.5050505050505051, 0.494949494949495]\n",
      "[0.5050505050505051, 0.494949494949495]\n",
      "[0.5050505050505051, 0.494949494949495]\n",
      "[0.5050505050505051, 0.494949494949495]\n",
      "[0.5050505050505051, 0.494949494949495]\n",
      "[0.49504950495049505, 0.504950495049505]\n",
      "[0.49504950495049505, 0.504950495049505]\n",
      "[0.5050505050505051, 0.494949494949495]\n",
      "[0.49504950495049505, 0.504950495049505]\n",
      "[0.5050505050505051, 0.494949494949495]\n",
      "[0.49504950495049505, 0.504950495049505]\n",
      "[0.5050505050505051, 0.494949494949495]\n",
      "[0.49504950495049505, 0.504950495049505]\n"
     ]
    }
   ],
   "source": [
    "seq = '_OPOPOPOOPPPPPPPPPPOOOOOOOOOOO'\n",
    "T = len(seq) - 1 \n",
    "a = [[0.5, 0.5], [0.5, 0.5]]\n",
    "b = [[0.5, 0.5], [0.51, 0.49]]\n",
    "ans = full_fb()\n",
    "for i in range(len(ans)):\n",
    "    print(ans[i])"
   ]
  },
  {
   "cell_type": "code",
   "execution_count": null,
   "metadata": {},
   "outputs": [],
   "source": []
  }
 ],
 "metadata": {
  "kernelspec": {
   "display_name": "Python 3",
   "language": "python",
   "name": "python3"
  },
  "language_info": {
   "codemirror_mode": {
    "name": "ipython",
    "version": 3
   },
   "file_extension": ".py",
   "mimetype": "text/x-python",
   "name": "python",
   "nbconvert_exporter": "python",
   "pygments_lexer": "ipython3",
   "version": "3.7.4"
  }
 },
 "nbformat": 4,
 "nbformat_minor": 2
}
