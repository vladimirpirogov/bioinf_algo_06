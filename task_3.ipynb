{
 "cells": [
  {
   "cell_type": "markdown",
   "metadata": {},
   "source": [
    "# Домашнее задание 6\n",
    "\n",
    "Упражнение 3\n",
    "\n",
    "# Витерби"
   ]
  },
  {
   "cell_type": "code",
   "execution_count": 209,
   "metadata": {},
   "outputs": [],
   "source": [
    "def delta_0():\n",
    "    print(seq[0])\n",
    "    if seq[0] == 'O':\n",
    "        g = 0\n",
    "    else:\n",
    "        g = 1\n",
    "    delta[0][0] = pi[0]*b[0][g] \n",
    "    delta[0][1] = pi[1]*b[1][g]\n",
    "    if delta[0][0] > delta[0][1]:\n",
    "        psi[0][0] = 0\n",
    "        psi[0][1] = 0\n",
    "    else:\n",
    "        psi[0][1] = 1\n",
    "        psi[0][0] = 1"
   ]
  },
  {
   "cell_type": "code",
   "execution_count": 210,
   "metadata": {},
   "outputs": [],
   "source": [
    "def viterby():\n",
    "    delta_0()\n",
    "\n",
    "    for t in range(1,T):\n",
    "        for j in range(2):\n",
    "            if seq[t] == 'O':\n",
    "                g = 0\n",
    "            else:\n",
    "                g = 1\n",
    "            # print(delta[t-1][0] , a[0][j] , b[j][g], ';',delta[t-1][1] , a[1][j] , b[j][g])\n",
    "            delta[t][j] = max(delta[t-1][0] * a[0][j] * b[j][g], delta[t-1][1] * a[1][j] * b[j][g])\n",
    "            if delta[t-1][0] * a[0][j] * b[0][g] > delta[t-1][1] * a[1][j] * b[1][g]:\n",
    "                psi[t][j] = 0\n",
    "            else:\n",
    "                psi[t][j] = 1\n",
    "\n",
    "    if delta[T-1][0] > delta[T-1][1]:\n",
    "        last_max = 0\n",
    "    else:\n",
    "        last_max = 1\n",
    "\n",
    "    answer = []            \n",
    "    for t in range(T-1,-1,-1):\n",
    "        answer.append(psi[t][last_max])\n",
    "        last_max = psi[t][last_max]\n",
    "\n",
    "    answer.reverse()\n",
    "    return answer"
   ]
  },
  {
   "cell_type": "code",
   "execution_count": 211,
   "metadata": {},
   "outputs": [],
   "source": [
    "# seq = 'OOOРОРООРРРРРРРРРРООООООООOOOOOOOOOOO'\n",
    "# seq = 'PPPPPPPPPPPPPPPPP'\n",
    "# seq = 'OOOOOOOOOOOOOOOOO'\n",
    "# seq = 'POPPPOPOPOPPPOPOPOPOPPPOPO'\n",
    "# seq = 'OPOPPPPPPPPPPPPPOPOOOOO'\n",
    "# seq = 'OPOPOPOOOOO'\n",
    "# seq = 'POPOPOPPPPP'\n",
    "# T = len(seq)\n",
    "# delta = [[0,0] for i in range(T)]\n",
    "# psi = [[0,0] for i in range(T)]\n",
    "# pi = [0.5, 0.5]\n",
    "# a = [[0.8, 0.2], [0.2, 0.8]]\n",
    "# b = [[0.5, 0.5], [0.1, 0.9]]"
   ]
  },
  {
   "cell_type": "code",
   "execution_count": 212,
   "metadata": {},
   "outputs": [
    {
     "name": "stdout",
     "output_type": "stream",
     "text": [
      "P\n",
      "[1, 0, 0, 0, 0, 0, 0, 1, 1, 1, 1]\n"
     ]
    }
   ],
   "source": [
    "# print(viterby())"
   ]
  },
  {
   "cell_type": "markdown",
   "metadata": {},
   "source": [
    "# Forward-Backward"
   ]
  },
  {
   "cell_type": "code",
   "execution_count": 213,
   "metadata": {},
   "outputs": [],
   "source": [
    "def alpha(j, t):\n",
    "    if t == 1:\n",
    "        if seq[1] == 'O':\n",
    "            g = 0\n",
    "        else:\n",
    "            g = 1\n",
    "            \n",
    "        return pi[j]*b[j][g]\n",
    "    else:\n",
    "        # print(seq[t-1])\n",
    "        if seq[t-1] == 'O':\n",
    "            g = 0\n",
    "        else:\n",
    "            g = 1\n",
    "        \n",
    "        return alpha(0, t-1)*a[0][j]*b[j][g] + alpha(1, t-1)*a[1][j]*b[j][g]"
   ]
  },
  {
   "cell_type": "code",
   "execution_count": 214,
   "metadata": {},
   "outputs": [],
   "source": [
    "def beta(i, t):\n",
    "    if t == T:\n",
    "        return 1\n",
    "    else:\n",
    "        if seq[t+1] == 'O':\n",
    "            g = 0\n",
    "        else:\n",
    "            g = 1\n",
    "        return beta(0, t+1) * a[i][0] * b[0][g] + beta(1, t+1) * a[i][1] * b[1][g]"
   ]
  },
  {
   "cell_type": "code",
   "execution_count": 215,
   "metadata": {},
   "outputs": [],
   "source": [
    "def fb():\n",
    "    answer = [[0, 0] for i in range(T+1)]\n",
    "    # d = alpha(0, T) + alpha(1, T)\n",
    "    for t in range(1, T+1):   \n",
    "        for k in range(2):\n",
    "            answer[t][k] = (alpha(k, t) * beta(k, t))/(alpha(0, t) * beta(0, t)+ alpha(1, t) * beta(1, t))\n",
    "    return answer"
   ]
  },
  {
   "cell_type": "code",
   "execution_count": 216,
   "metadata": {},
   "outputs": [],
   "source": [
    "def full_alpha():\n",
    "    al = [[0, 0] for i in range(T+1)]\n",
    "    for t in range(1,T+1):\n",
    "        if seq[t] == 'O':\n",
    "            g = 0\n",
    "        else:\n",
    "            g = 1\n",
    "        \n",
    "        if t == 1:\n",
    "            al[t][0] = pi[0]*b[0][g]/(pi[0]*b[0][g] + pi[1]*b[1][g])\n",
    "            al[t][1] = pi[1]*b[1][g]/(pi[0]*b[0][g] + pi[1]*b[1][g])\n",
    "        else:\n",
    "            d = (al[t-1][0]*a[0][0]*b[0][g]+ al[t-1][1]*a[1][0]*b[0][g])  + (al[t-1][0]*a[0][1]*b[1][g]+ al[t-1][1]*a[1][1]*b[1][g])\n",
    "            al[t][0] = (al[t-1][0]*a[0][0]*b[0][g]+ al[t-1][1]*a[1][0]*b[0][g]) /(d)\n",
    "            al[t][1] = (al[t-1][0]*a[0][1]*b[1][g]+ al[t-1][1]*a[1][1]*b[1][g]) /(d)\n",
    "            # print(answer[t-1][0]*b[0][g],  answer[t-1][1]*b[1][g]  )\n",
    "    return al"
   ]
  },
  {
   "cell_type": "code",
   "execution_count": 217,
   "metadata": {},
   "outputs": [],
   "source": [
    "def full_beta():\n",
    "    be  = [[0, 0] for i in range(T+1)]\n",
    "    for t in range(T, -1, -1):\n",
    "        if seq[t] == 'O':\n",
    "            g = 0\n",
    "        else:\n",
    "            g = 1\n",
    "        \n",
    "        if t == T:\n",
    "            be[t][0] = 1 # pi[0]*b[0][g]/(pi[0]*b[0][g] + pi[1]*b[1][g])\n",
    "            be[t][1] = 1 # pi[1]*b[1][g]/(pi[0]*b[0][g] + pi[1]*b[1][g])\n",
    "        else:\n",
    "            # d = (answer[t-1][0]*a[0][0]*b[0][g]+ answer[t-1][1]*a[1][0]*b[0][g])  + (answer[t-1][0]*a[0][1]*b[1][g]+ answer[t-1][1]*a[1][1]*b[1][g])\n",
    "            d = a[0][0] * b[0][g] * be[t+1][0] + a[0][1]*b[1][g] * be[t+1][1] + a[1][0] * b[0][g] * be[t+1][0] + a[1][1]*b[1][g] * be[t+1][1]\n",
    "            # beta(0, t+1) * a[i][0] * b[0][g] + beta(1, t+1) * a[i][1] * b[1][g]\n",
    "            be [t][0] = (a[0][0] * b[0][g] * be[t+1][0] + a[0][1]*b[1][g] * be[t+1][1]) /(d)\n",
    "            be [t][1] = (a[1][0] * b[0][g] * be[t+1][0] + a[1][1]*b[1][g] * be[t+1][1]) /(d)\n",
    "            # answer[t][1] = (answer[t-1][0]*a[0][1]*b[1][g]+ answer[t-1][1]*a[1][1]*b[1][g]) /(d)\n",
    "            # print(a[0][0] , b[0][g] , a[0][1] , b[1][g])\n",
    "            # print(a[0][0] * b[0][g] * be[t+1][0] + a[0][1] * b[1][g] * be[t+1][1],  a[1][0] * b[0][g] * be[t+1][0] + a[1][1]*b[1][g] * be[t+1][1])\n",
    "    return be"
   ]
  },
  {
   "cell_type": "code",
   "execution_count": 218,
   "metadata": {},
   "outputs": [],
   "source": [
    "def full_fb():\n",
    "    fb = full_beta()\n",
    "    fa = full_alpha()\n",
    "    full_answer = []\n",
    "    for i in range(len(fb)):\n",
    "        s0 = fb[len(fb)-i-1][0] * fa[len(fb)-i-1][0]\n",
    "        s1 = fb[len(fb)-i-1][1] * fa[len(fb)-i-1][1]\n",
    "        s = s0+s1\n",
    "        if s!=0:\n",
    "            full_answer.append([s0/s, s1/s])\n",
    "    return full_answer"
   ]
  },
  {
   "cell_type": "markdown",
   "metadata": {},
   "source": [
    "# Тесты\n",
    "\n",
    "1 Витерби"
   ]
  },
  {
   "cell_type": "code",
   "execution_count": 233,
   "metadata": {},
   "outputs": [
    {
     "name": "stdout",
     "output_type": "stream",
     "text": [
      "О\n",
      "[1, 1, 1, 1, 1, 1, 1, 1, 1, 1, 1, 1, 1, 1, 1, 1, 1, 1, 1, 1, 1, 1, 1, 1, 1, 0, 0, 0, 0]\n"
     ]
    }
   ],
   "source": [
    "seq = 'ОРОРОРООРРРРРРРРРРОООООООOOOО'\n",
    "T = len(seq)\n",
    "delta = [[0,0] for i in range(T)]\n",
    "psi = [[0,0] for i in range(T)]\n",
    "pi = [0.5, 0.5]\n",
    "a = [[0.8, 0.2], [0.2, 0.8]]\n",
    "b = [[0.5, 0.5], [0.1, 0.9]]\n",
    "print(viterby())"
   ]
  },
  {
   "cell_type": "markdown",
   "metadata": {},
   "source": [
    "1 Forward-Backward"
   ]
  },
  {
   "cell_type": "code",
   "execution_count": 234,
   "metadata": {},
   "outputs": [
    {
     "name": "stdout",
     "output_type": "stream",
     "text": [
      "[0.6373442326272852, 0.3626557673727149]\n",
      "[0.9701509399123951, 0.029849060087605007]\n",
      "[0.9621488680325122, 0.037851131967487774]\n",
      "[0.8870822471092066, 0.11291775289079345]\n",
      "[0.2763837398759587, 0.7236162601240412]\n",
      "[0.18973626876226563, 0.8102637312377343]\n",
      "[0.15015534132786051, 0.8498446586721394]\n",
      "[0.13207461037066823, 0.8679253896293317]\n",
      "[0.1238152630057468, 0.8761847369942531]\n",
      "[0.1200423726388655, 0.8799576273611345]\n",
      "[0.11831893156637953, 0.8816810684336205]\n",
      "[0.11753172451776465, 0.8824682754822353]\n",
      "[0.11717227405124887, 0.8828277259487511]\n",
      "[0.11700840179142345, 0.8829915982085766]\n",
      "[0.1169342583971271, 0.8830657416028728]\n",
      "[0.11690195272774766, 0.8830980472722523]\n",
      "[0.1168906177138786, 0.8831093822861215]\n",
      "[0.11689293177619098, 0.883107068223809]\n",
      "[0.11691038962752678, 0.8830896103724732]\n",
      "[0.11695426774667472, 0.8830457322533253]\n",
      "[0.11705290814837323, 0.8829470918516268]\n",
      "[0.1172700252254232, 0.8827299747745769]\n",
      "[0.11774586052685253, 0.8822541394731476]\n",
      "[0.11878776841032504, 0.8812122315896749]\n",
      "[0.12106874419020232, 0.8789312558097977]\n",
      "[0.1260621292591162, 0.8739378707408837]\n",
      "[0.13699328049120948, 0.8630067195087905]\n",
      "[0.16092291186750846, 0.8390770881324915]\n",
      "[0.21330779269181513, 0.7866922073081849]\n"
     ]
    }
   ],
   "source": [
    "seq = '_ОРОРОРООРРРРРРРРРРОООООООOOOО'\n",
    "T = len(seq) - 1 \n",
    "a = [[0.8, 0.2], [0.2, 0.8]]\n",
    "b = [[0.5, 0.5], [0.1, 0.9]]\n",
    "ans = full_fb()\n",
    "for i in range(len(ans)):\n",
    "    print(ans[i])"
   ]
  },
  {
   "cell_type": "markdown",
   "metadata": {},
   "source": [
    "2 Витерби"
   ]
  },
  {
   "cell_type": "code",
   "execution_count": 236,
   "metadata": {},
   "outputs": [
    {
     "name": "stdout",
     "output_type": "stream",
     "text": [
      "О\n",
      "[0, 0, 0, 0, 0, 0, 0, 0, 0, 0, 0, 0, 0, 0, 0, 0, 0, 0, 0, 0, 0, 0, 0, 0, 0, 0, 1]\n"
     ]
    }
   ],
   "source": [
    "seq = 'ОРОРОРООРРРРРРРРРРОООООООOO'\n",
    "T = len(seq)\n",
    "delta = [[0,0] for i in range(T)]\n",
    "psi = [[0,0] for i in range(T)]\n",
    "pi = [0.5, 0.5]\n",
    "a = [[0.5, 0.5], [0.5, 0.5]]\n",
    "b = [[0.5, 0.5], [0.51, 0.49]]\n",
    "print(viterby())"
   ]
  },
  {
   "cell_type": "markdown",
   "metadata": {},
   "source": [
    "2 Forward-Backward"
   ]
  },
  {
   "cell_type": "code",
   "execution_count": 237,
   "metadata": {},
   "outputs": [
    {
     "name": "stdout",
     "output_type": "stream",
     "text": [
      "[0.49504950495049505, 0.504950495049505]\n",
      "[0.49504950495049505, 0.504950495049505]\n",
      "[0.5050505050505051, 0.494949494949495]\n",
      "[0.5050505050505051, 0.494949494949495]\n",
      "[0.5050505050505051, 0.494949494949495]\n",
      "[0.5050505050505051, 0.494949494949495]\n",
      "[0.5050505050505051, 0.494949494949495]\n",
      "[0.5050505050505051, 0.494949494949495]\n",
      "[0.5050505050505051, 0.494949494949495]\n",
      "[0.5050505050505051, 0.494949494949495]\n",
      "[0.5050505050505051, 0.494949494949495]\n",
      "[0.5050505050505051, 0.494949494949495]\n",
      "[0.5050505050505051, 0.494949494949495]\n",
      "[0.5050505050505051, 0.494949494949495]\n",
      "[0.5050505050505051, 0.494949494949495]\n",
      "[0.5050505050505051, 0.494949494949495]\n",
      "[0.5050505050505051, 0.494949494949495]\n",
      "[0.5050505050505051, 0.494949494949495]\n",
      "[0.5050505050505051, 0.494949494949495]\n",
      "[0.5050505050505051, 0.494949494949495]\n",
      "[0.5050505050505051, 0.494949494949495]\n",
      "[0.5050505050505051, 0.494949494949495]\n",
      "[0.5050505050505051, 0.494949494949495]\n",
      "[0.5050505050505051, 0.494949494949495]\n",
      "[0.5050505050505051, 0.494949494949495]\n",
      "[0.5050505050505051, 0.494949494949495]\n",
      "[0.5050505050505051, 0.494949494949495]\n"
     ]
    }
   ],
   "source": [
    "seq = '_ОРОРОРООРРРРРРРРРРОООООООOO'\n",
    "T = len(seq) - 1 \n",
    "a = [[0.5, 0.5], [0.5, 0.5]]\n",
    "b = [[0.5, 0.5], [0.51, 0.49]]\n",
    "ans = full_fb()\n",
    "for i in range(len(ans)):\n",
    "    print(ans[i])"
   ]
  },
  {
   "cell_type": "code",
   "execution_count": null,
   "metadata": {},
   "outputs": [],
   "source": []
  }
 ],
 "metadata": {
  "kernelspec": {
   "display_name": "Python 3",
   "language": "python",
   "name": "python3"
  },
  "language_info": {
   "codemirror_mode": {
    "name": "ipython",
    "version": 3
   },
   "file_extension": ".py",
   "mimetype": "text/x-python",
   "name": "python",
   "nbconvert_exporter": "python",
   "pygments_lexer": "ipython3",
   "version": "3.7.4"
  }
 },
 "nbformat": 4,
 "nbformat_minor": 2
}
